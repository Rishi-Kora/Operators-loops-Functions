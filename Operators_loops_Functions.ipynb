{
  "nbformat": 4,
  "nbformat_minor": 0,
  "metadata": {
    "colab": {
      "provenance": []
    },
    "kernelspec": {
      "name": "python3",
      "display_name": "Python 3"
    },
    "language_info": {
      "name": "python"
    }
  },
  "cells": [
    {
      "cell_type": "markdown",
      "source": [
        "#**Repetition**"
      ],
      "metadata": {
        "id": "mxAovuAKnBKh"
      }
    },
    {
      "cell_type": "code",
      "execution_count": null,
      "metadata": {
        "colab": {
          "base_uri": "https://localhost:8080/"
        },
        "id": "4jiHYni2lTRI",
        "outputId": "b5ae260a-d1d3-4523-d921-2b5e38a8ee15"
      },
      "outputs": [
        {
          "output_type": "stream",
          "name": "stdout",
          "text": [
            "0\n",
            "1\n",
            "2\n",
            "3\n",
            "4\n"
          ]
        }
      ],
      "source": [
        "for i in range(5):\n",
        "  print(i)"
      ]
    },
    {
      "cell_type": "code",
      "source": [
        "for a in range(101):\n",
        "  print(a)"
      ],
      "metadata": {
        "colab": {
          "base_uri": "https://localhost:8080/"
        },
        "id": "uQ2-dHWCnNoz",
        "outputId": "71e3cb62-66b7-4a2c-cc86-f03ac4e83881"
      },
      "execution_count": null,
      "outputs": [
        {
          "output_type": "stream",
          "name": "stdout",
          "text": [
            "0\n",
            "1\n",
            "2\n",
            "3\n",
            "4\n",
            "5\n",
            "6\n",
            "7\n",
            "8\n",
            "9\n",
            "10\n",
            "11\n",
            "12\n",
            "13\n",
            "14\n",
            "15\n",
            "16\n",
            "17\n",
            "18\n",
            "19\n",
            "20\n",
            "21\n",
            "22\n",
            "23\n",
            "24\n",
            "25\n",
            "26\n",
            "27\n",
            "28\n",
            "29\n",
            "30\n",
            "31\n",
            "32\n",
            "33\n",
            "34\n",
            "35\n",
            "36\n",
            "37\n",
            "38\n",
            "39\n",
            "40\n",
            "41\n",
            "42\n",
            "43\n",
            "44\n",
            "45\n",
            "46\n",
            "47\n",
            "48\n",
            "49\n",
            "50\n",
            "51\n",
            "52\n",
            "53\n",
            "54\n",
            "55\n",
            "56\n",
            "57\n",
            "58\n",
            "59\n",
            "60\n",
            "61\n",
            "62\n",
            "63\n",
            "64\n",
            "65\n",
            "66\n",
            "67\n",
            "68\n",
            "69\n",
            "70\n",
            "71\n",
            "72\n",
            "73\n",
            "74\n",
            "75\n",
            "76\n",
            "77\n",
            "78\n",
            "79\n",
            "80\n",
            "81\n",
            "82\n",
            "83\n",
            "84\n",
            "85\n",
            "86\n",
            "87\n",
            "88\n",
            "89\n",
            "90\n",
            "91\n",
            "92\n",
            "93\n",
            "94\n",
            "95\n",
            "96\n",
            "97\n",
            "98\n",
            "99\n",
            "100\n"
          ]
        }
      ]
    },
    {
      "cell_type": "code",
      "source": [
        "for i in range(10):\n",
        "  var = input(\"Enter base: \")\n",
        "  print(int(var)**2)"
      ],
      "metadata": {
        "colab": {
          "base_uri": "https://localhost:8080/"
        },
        "id": "0cpEn8x1nsqH",
        "outputId": "73ad60a6-9f8a-43ef-ed70-df165c642eab"
      },
      "execution_count": null,
      "outputs": [
        {
          "output_type": "stream",
          "name": "stdout",
          "text": [
            "Enter base: 10\n",
            "100\n",
            "Enter base: 2\n",
            "4\n",
            "Enter base: 3\n",
            "9\n",
            "Enter base: 4\n",
            "16\n",
            "Enter base: 6\n",
            "36\n",
            "Enter base: 7\n",
            "49\n",
            "Enter base: 8\n",
            "64\n",
            "Enter base: 9\n",
            "81\n",
            "Enter base: 6\n",
            "36\n",
            "Enter base: 8\n",
            "64\n"
          ]
        }
      ]
    },
    {
      "cell_type": "code",
      "source": [
        "total = 0\n",
        "for i in range(4):\n",
        "  total = total + float(input(\"Enter a number: \"))\n",
        "avg = total / 4\n",
        "print(\"Average: \" + str(avg))"
      ],
      "metadata": {
        "colab": {
          "base_uri": "https://localhost:8080/"
        },
        "id": "T2n5HfnzobT8",
        "outputId": "dbcaa567-e3fc-4185-d1cd-e42cb955bcc3"
      },
      "execution_count": null,
      "outputs": [
        {
          "output_type": "stream",
          "name": "stdout",
          "text": [
            "Enter a number: 3\n",
            "Enter a number: 4\n",
            "Enter a number: 5\n",
            "Enter a number: 6\n",
            "Average: 4.5\n"
          ]
        }
      ]
    },
    {
      "cell_type": "markdown",
      "source": [
        "Write some Python code that does the below 10 times:\n",
        "Asks the user for a base and an exponent, and then shows the\n",
        "result of the base to the power of the exponent.\n",
        "\n",
        "\n",
        "Now, just a quick update. Instead of repeating this 10 times ask the\n",
        "user how many times he’d like to repeat beforehand"
      ],
      "metadata": {
        "id": "m6iFgTL4pYP6"
      }
    },
    {
      "cell_type": "code",
      "source": [
        "for i in range(10):\n",
        "  var1 = int(input(\"Enter the base: \"))\n",
        "  var2 = int(input(\"Enter the exponent: \"))\n",
        "  pow=var1**var2\n",
        "  print(pow)"
      ],
      "metadata": {
        "colab": {
          "base_uri": "https://localhost:8080/"
        },
        "id": "X35EnCDZowIR",
        "outputId": "8022370b-9255-4ad8-c083-543647ab8496"
      },
      "execution_count": null,
      "outputs": [
        {
          "output_type": "stream",
          "name": "stdout",
          "text": [
            "Enter the base: 1\n",
            "Enter the exponent: 2\n",
            "1\n",
            "Enter the base: 3\n",
            "Enter the exponent: 3\n",
            "27\n",
            "Enter the base: 4\n",
            "Enter the exponent: 5\n",
            "1024\n",
            "Enter the base: 7\n",
            "Enter the exponent: 3\n",
            "343\n",
            "Enter the base: 8\n",
            "Enter the exponent: 3\n",
            "512\n",
            "Enter the base: 10\n",
            "Enter the exponent: 3\n",
            "1000\n",
            "Enter the base: 4\n",
            "Enter the exponent: 2\n",
            "16\n",
            "Enter the base: 6\n",
            "Enter the exponent: 2\n",
            "36\n",
            "Enter the base: 7\n",
            "Enter the exponent: 2\n",
            "49\n",
            "Enter the base: 100\n",
            "Enter the exponent: 2\n",
            "10000\n"
          ]
        }
      ]
    },
    {
      "cell_type": "code",
      "source": [
        "n = int(input(\"How many times to be repeated: \"))\n",
        "for i in range(n):\n",
        "  var1 = int(input(\"Enter the base: \"))\n",
        "  var2 = int(input(\"Enter the exponent: \"))\n",
        "  pow=var1**var2\n",
        "  print(pow)"
      ],
      "metadata": {
        "colab": {
          "base_uri": "https://localhost:8080/"
        },
        "id": "XXTI-RhHrLor",
        "outputId": "39b3333f-4851-4cff-e332-67e022d484e2"
      },
      "execution_count": null,
      "outputs": [
        {
          "output_type": "stream",
          "name": "stdout",
          "text": [
            "How many times to be repeated: 8\n",
            "Enter the base: 1\n",
            "Enter the exponent: 2\n",
            "1\n",
            "Enter the base: 3\n",
            "Enter the exponent: 6\n",
            "729\n",
            "Enter the base: 9\n",
            "Enter the exponent: 8\n",
            "43046721\n",
            "Enter the base: 10\n",
            "Enter the exponent: 100\n",
            "10000000000000000000000000000000000000000000000000000000000000000000000000000000000000000000000000000\n",
            "Enter the base: 11\n",
            "Enter the exponent: 11\n",
            "285311670611\n",
            "Enter the base: 12\n",
            "Enter the exponent: 2\n",
            "144\n",
            "Enter the base: 11\n",
            "Enter the exponent: 2\n",
            "121\n",
            "Enter the base: 5\n",
            "Enter the exponent: 3\n",
            "125\n"
          ]
        }
      ]
    },
    {
      "cell_type": "markdown",
      "source": [
        "Write a function that reads 10 integers\n",
        "from the user, and then prints on the\n",
        "screen the highest of these."
      ],
      "metadata": {
        "id": "6-ilCDPcvMXL"
      }
    },
    {
      "cell_type": "code",
      "source": [
        "def high(n):\n",
        "  lst=[]\n",
        "  for i in range(n):\n",
        "    var1= int(input(\"Enter a number: \"))\n",
        "    lst.append(var1)\n",
        "\n",
        "  max = lst[0]\n",
        "  for j in lst:\n",
        "    if j > max:\n",
        "      max=j\n",
        "  return max\n",
        "\n",
        "high(4)"
      ],
      "metadata": {
        "colab": {
          "base_uri": "https://localhost:8080/"
        },
        "id": "vEK1ieec5N5N",
        "outputId": "2b2855f2-43e2-4190-b993-2541971fd448"
      },
      "execution_count": null,
      "outputs": [
        {
          "name": "stdout",
          "output_type": "stream",
          "text": [
            "Enter a number: 1\n",
            "Enter a number: 2\n",
            "Enter a number: 8\n",
            "Enter a number: 10\n"
          ]
        },
        {
          "output_type": "execute_result",
          "data": {
            "text/plain": [
              "10"
            ]
          },
          "metadata": {},
          "execution_count": 7
        }
      ]
    },
    {
      "cell_type": "markdown",
      "source": [
        "Write a function that reads 3 numbers\n",
        "from the user and print the number\n",
        "repeats most times.For instance, if the\n",
        "user inputs 5, 5, 7, the function should\n",
        "print 5 on the screen"
      ],
      "metadata": {
        "id": "5MDGW6QE724n"
      }
    },
    {
      "cell_type": "code",
      "source": [
        "def read_numbers(n1,n2,n3):\n",
        " lst= int(input(\"Enter a number: \"))\n",
        " for x in range(0,lst):\n",
        "  if lst.count(x)>1:\n",
        "    print(x)\n"
      ],
      "metadata": {
        "id": "d0SHsHRB71U3"
      },
      "execution_count": null,
      "outputs": []
    },
    {
      "cell_type": "code",
      "source": [
        "read_numbers(5,5,7)"
      ],
      "metadata": {
        "colab": {
          "base_uri": "https://localhost:8080/",
          "height": 314
        },
        "id": "BKlsB83c8TJ5",
        "outputId": "d3432daa-c19a-4a43-967b-c36e34ed53e2"
      },
      "execution_count": null,
      "outputs": [
        {
          "name": "stdout",
          "output_type": "stream",
          "text": [
            "Enter a number: 5\n"
          ]
        },
        {
          "output_type": "error",
          "ename": "AttributeError",
          "evalue": "ignored",
          "traceback": [
            "\u001b[0;31m---------------------------------------------------------------------------\u001b[0m",
            "\u001b[0;31mAttributeError\u001b[0m                            Traceback (most recent call last)",
            "\u001b[0;32m<ipython-input-26-2c7a480aca86>\u001b[0m in \u001b[0;36m<cell line: 1>\u001b[0;34m()\u001b[0m\n\u001b[0;32m----> 1\u001b[0;31m \u001b[0mread_numbers\u001b[0m\u001b[0;34m(\u001b[0m\u001b[0;36m5\u001b[0m\u001b[0;34m,\u001b[0m\u001b[0;36m5\u001b[0m\u001b[0;34m,\u001b[0m\u001b[0;36m7\u001b[0m\u001b[0;34m)\u001b[0m\u001b[0;34m\u001b[0m\u001b[0;34m\u001b[0m\u001b[0m\n\u001b[0m",
            "\u001b[0;32m<ipython-input-25-a851f7c76211>\u001b[0m in \u001b[0;36mread_numbers\u001b[0;34m(n1, n2, n3)\u001b[0m\n\u001b[1;32m      2\u001b[0m  \u001b[0mlst\u001b[0m\u001b[0;34m=\u001b[0m \u001b[0mint\u001b[0m\u001b[0;34m(\u001b[0m\u001b[0minput\u001b[0m\u001b[0;34m(\u001b[0m\u001b[0;34m\"Enter a number: \"\u001b[0m\u001b[0;34m)\u001b[0m\u001b[0;34m)\u001b[0m\u001b[0;34m\u001b[0m\u001b[0;34m\u001b[0m\u001b[0m\n\u001b[1;32m      3\u001b[0m  \u001b[0;32mfor\u001b[0m \u001b[0mx\u001b[0m \u001b[0;32min\u001b[0m \u001b[0mrange\u001b[0m\u001b[0;34m(\u001b[0m\u001b[0;36m0\u001b[0m\u001b[0;34m,\u001b[0m\u001b[0mlst\u001b[0m\u001b[0;34m)\u001b[0m\u001b[0;34m:\u001b[0m\u001b[0;34m\u001b[0m\u001b[0;34m\u001b[0m\u001b[0m\n\u001b[0;32m----> 4\u001b[0;31m   \u001b[0;32mif\u001b[0m \u001b[0mlst\u001b[0m\u001b[0;34m.\u001b[0m\u001b[0mcount\u001b[0m\u001b[0;34m(\u001b[0m\u001b[0mx\u001b[0m\u001b[0;34m)\u001b[0m\u001b[0;34m>\u001b[0m\u001b[0;36m1\u001b[0m\u001b[0;34m:\u001b[0m\u001b[0;34m\u001b[0m\u001b[0;34m\u001b[0m\u001b[0m\n\u001b[0m\u001b[1;32m      5\u001b[0m     \u001b[0mprint\u001b[0m\u001b[0;34m(\u001b[0m\u001b[0mx\u001b[0m\u001b[0;34m)\u001b[0m\u001b[0;34m\u001b[0m\u001b[0;34m\u001b[0m\u001b[0m\n\u001b[1;32m      6\u001b[0m \u001b[0;34m\u001b[0m\u001b[0m\n",
            "\u001b[0;31mAttributeError\u001b[0m: 'int' object has no attribute 'count'"
          ]
        }
      ]
    },
    {
      "cell_type": "markdown",
      "source": [
        "Write a function called **get_circle_perimeter** with one argument (radius).\n",
        "\n",
        "This function should return the perimeter of a circle  "
      ],
      "metadata": {
        "id": "KVXEdQbYyZtR"
      }
    },
    {
      "cell_type": "code",
      "source": [
        "import math\n",
        "def get_circle_perimeter(radius):\n",
        "  perimeter = 2*math.pi*radius\n",
        "  return perimeter"
      ],
      "metadata": {
        "id": "CRfhWw0rviEw"
      },
      "execution_count": null,
      "outputs": []
    },
    {
      "cell_type": "code",
      "source": [
        "get_circle_perimeter(10)"
      ],
      "metadata": {
        "colab": {
          "base_uri": "https://localhost:8080/"
        },
        "id": "QbG0auhtNM0o",
        "outputId": "a3b5e92e-8e63-465c-fa29-08d93507c2ef"
      },
      "execution_count": null,
      "outputs": [
        {
          "output_type": "execute_result",
          "data": {
            "text/plain": [
              "62.83185307179586"
            ]
          },
          "metadata": {},
          "execution_count": 13
        }
      ]
    },
    {
      "cell_type": "code",
      "source": [
        "def fahrenheit_to_celsius(i):\n",
        "  calculation = (5/9)* (i-32)\n",
        "  return calculation\n",
        "for i in range(1,101):\n",
        "  print(i,\"Fahrenheit\",round(fahrenheit_to_celsius(i),2),\"celsius\")\n"
      ],
      "metadata": {
        "colab": {
          "base_uri": "https://localhost:8080/"
        },
        "id": "AIznjFZ5Ghs_",
        "outputId": "8d65a15c-47ba-4630-aada-362bc5d369d1"
      },
      "execution_count": null,
      "outputs": [
        {
          "output_type": "stream",
          "name": "stdout",
          "text": [
            "1 Fahrenheit -17.22 celsius\n",
            "2 Fahrenheit -16.67 celsius\n",
            "3 Fahrenheit -16.11 celsius\n",
            "4 Fahrenheit -15.56 celsius\n",
            "5 Fahrenheit -15.0 celsius\n",
            "6 Fahrenheit -14.44 celsius\n",
            "7 Fahrenheit -13.89 celsius\n",
            "8 Fahrenheit -13.33 celsius\n",
            "9 Fahrenheit -12.78 celsius\n",
            "10 Fahrenheit -12.22 celsius\n",
            "11 Fahrenheit -11.67 celsius\n",
            "12 Fahrenheit -11.11 celsius\n",
            "13 Fahrenheit -10.56 celsius\n",
            "14 Fahrenheit -10.0 celsius\n",
            "15 Fahrenheit -9.44 celsius\n",
            "16 Fahrenheit -8.89 celsius\n",
            "17 Fahrenheit -8.33 celsius\n",
            "18 Fahrenheit -7.78 celsius\n",
            "19 Fahrenheit -7.22 celsius\n",
            "20 Fahrenheit -6.67 celsius\n",
            "21 Fahrenheit -6.11 celsius\n",
            "22 Fahrenheit -5.56 celsius\n",
            "23 Fahrenheit -5.0 celsius\n",
            "24 Fahrenheit -4.44 celsius\n",
            "25 Fahrenheit -3.89 celsius\n",
            "26 Fahrenheit -3.33 celsius\n",
            "27 Fahrenheit -2.78 celsius\n",
            "28 Fahrenheit -2.22 celsius\n",
            "29 Fahrenheit -1.67 celsius\n",
            "30 Fahrenheit -1.11 celsius\n",
            "31 Fahrenheit -0.56 celsius\n",
            "32 Fahrenheit 0.0 celsius\n",
            "33 Fahrenheit 0.56 celsius\n",
            "34 Fahrenheit 1.11 celsius\n",
            "35 Fahrenheit 1.67 celsius\n",
            "36 Fahrenheit 2.22 celsius\n",
            "37 Fahrenheit 2.78 celsius\n",
            "38 Fahrenheit 3.33 celsius\n",
            "39 Fahrenheit 3.89 celsius\n",
            "40 Fahrenheit 4.44 celsius\n",
            "41 Fahrenheit 5.0 celsius\n",
            "42 Fahrenheit 5.56 celsius\n",
            "43 Fahrenheit 6.11 celsius\n",
            "44 Fahrenheit 6.67 celsius\n",
            "45 Fahrenheit 7.22 celsius\n",
            "46 Fahrenheit 7.78 celsius\n",
            "47 Fahrenheit 8.33 celsius\n",
            "48 Fahrenheit 8.89 celsius\n",
            "49 Fahrenheit 9.44 celsius\n",
            "50 Fahrenheit 10.0 celsius\n",
            "51 Fahrenheit 10.56 celsius\n",
            "52 Fahrenheit 11.11 celsius\n",
            "53 Fahrenheit 11.67 celsius\n",
            "54 Fahrenheit 12.22 celsius\n",
            "55 Fahrenheit 12.78 celsius\n",
            "56 Fahrenheit 13.33 celsius\n",
            "57 Fahrenheit 13.89 celsius\n",
            "58 Fahrenheit 14.44 celsius\n",
            "59 Fahrenheit 15.0 celsius\n",
            "60 Fahrenheit 15.56 celsius\n",
            "61 Fahrenheit 16.11 celsius\n",
            "62 Fahrenheit 16.67 celsius\n",
            "63 Fahrenheit 17.22 celsius\n",
            "64 Fahrenheit 17.78 celsius\n",
            "65 Fahrenheit 18.33 celsius\n",
            "66 Fahrenheit 18.89 celsius\n",
            "67 Fahrenheit 19.44 celsius\n",
            "68 Fahrenheit 20.0 celsius\n",
            "69 Fahrenheit 20.56 celsius\n",
            "70 Fahrenheit 21.11 celsius\n",
            "71 Fahrenheit 21.67 celsius\n",
            "72 Fahrenheit 22.22 celsius\n",
            "73 Fahrenheit 22.78 celsius\n",
            "74 Fahrenheit 23.33 celsius\n",
            "75 Fahrenheit 23.89 celsius\n",
            "76 Fahrenheit 24.44 celsius\n",
            "77 Fahrenheit 25.0 celsius\n",
            "78 Fahrenheit 25.56 celsius\n",
            "79 Fahrenheit 26.11 celsius\n",
            "80 Fahrenheit 26.67 celsius\n",
            "81 Fahrenheit 27.22 celsius\n",
            "82 Fahrenheit 27.78 celsius\n",
            "83 Fahrenheit 28.33 celsius\n",
            "84 Fahrenheit 28.89 celsius\n",
            "85 Fahrenheit 29.44 celsius\n",
            "86 Fahrenheit 30.0 celsius\n",
            "87 Fahrenheit 30.56 celsius\n",
            "88 Fahrenheit 31.11 celsius\n",
            "89 Fahrenheit 31.67 celsius\n",
            "90 Fahrenheit 32.22 celsius\n",
            "91 Fahrenheit 32.78 celsius\n",
            "92 Fahrenheit 33.33 celsius\n",
            "93 Fahrenheit 33.89 celsius\n",
            "94 Fahrenheit 34.44 celsius\n",
            "95 Fahrenheit 35.0 celsius\n",
            "96 Fahrenheit 35.56 celsius\n",
            "97 Fahrenheit 36.11 celsius\n",
            "98 Fahrenheit 36.67 celsius\n",
            "99 Fahrenheit 37.22 celsius\n",
            "100 Fahrenheit 37.78 celsius\n"
          ]
        }
      ]
    },
    {
      "cell_type": "markdown",
      "source": [
        "Write a Python function to sum all the numbers in a list.\n",
        "Sample List : (8, 2, 3, 0, 7)\n",
        "Expected Output : 20"
      ],
      "metadata": {
        "id": "S5So_Sw-MB3Y"
      }
    },
    {
      "cell_type": "code",
      "source": [
        "\n",
        "def sum_of_all_numbers(lst):\n",
        "  s=0\n",
        "  for i in lst:\n",
        "    #s= s+int(i)\n",
        "    print(i)\n",
        "  return s\n",
        "lst_val=list(int(input(\"Enter a number: \").strip().split()))\n",
        "sum_of_all_numbers(lst_val)\n",
        "\n",
        "\n"
      ],
      "metadata": {
        "colab": {
          "base_uri": "https://localhost:8080/",
          "height": 262
        },
        "id": "ogRpxO15IBl-",
        "outputId": "bbefacbc-d32c-49d7-a68e-a2fcbff0d392"
      },
      "execution_count": null,
      "outputs": [
        {
          "name": "stdout",
          "output_type": "stream",
          "text": [
            "Enter a number: 8, 2, 3, 0, 7\n"
          ]
        },
        {
          "output_type": "error",
          "ename": "TypeError",
          "evalue": "ignored",
          "traceback": [
            "\u001b[0;31m---------------------------------------------------------------------------\u001b[0m",
            "\u001b[0;31mTypeError\u001b[0m                                 Traceback (most recent call last)",
            "\u001b[0;32m<ipython-input-23-5274aa0c61fe>\u001b[0m in \u001b[0;36m<cell line: 7>\u001b[0;34m()\u001b[0m\n\u001b[1;32m      5\u001b[0m     \u001b[0mprint\u001b[0m\u001b[0;34m(\u001b[0m\u001b[0mi\u001b[0m\u001b[0;34m)\u001b[0m\u001b[0;34m\u001b[0m\u001b[0;34m\u001b[0m\u001b[0m\n\u001b[1;32m      6\u001b[0m   \u001b[0;32mreturn\u001b[0m \u001b[0ms\u001b[0m\u001b[0;34m\u001b[0m\u001b[0;34m\u001b[0m\u001b[0m\n\u001b[0;32m----> 7\u001b[0;31m \u001b[0mlst_val\u001b[0m\u001b[0;34m=\u001b[0m\u001b[0mlist\u001b[0m\u001b[0;34m(\u001b[0m\u001b[0mint\u001b[0m\u001b[0;34m(\u001b[0m\u001b[0minput\u001b[0m\u001b[0;34m(\u001b[0m\u001b[0;34m\"Enter a number: \"\u001b[0m\u001b[0;34m)\u001b[0m\u001b[0;34m.\u001b[0m\u001b[0mstrip\u001b[0m\u001b[0;34m(\u001b[0m\u001b[0;34m)\u001b[0m\u001b[0;34m.\u001b[0m\u001b[0msplit\u001b[0m\u001b[0;34m(\u001b[0m\u001b[0;34m)\u001b[0m\u001b[0;34m)\u001b[0m\u001b[0;34m)\u001b[0m\u001b[0;34m\u001b[0m\u001b[0;34m\u001b[0m\u001b[0m\n\u001b[0m\u001b[1;32m      8\u001b[0m \u001b[0msum_of_all_numbers\u001b[0m\u001b[0;34m(\u001b[0m\u001b[0mlst_val\u001b[0m\u001b[0;34m)\u001b[0m\u001b[0;34m\u001b[0m\u001b[0;34m\u001b[0m\u001b[0m\n\u001b[1;32m      9\u001b[0m \u001b[0;34m\u001b[0m\u001b[0m\n",
            "\u001b[0;31mTypeError\u001b[0m: int() argument must be a string, a bytes-like object or a real number, not 'list'"
          ]
        }
      ]
    },
    {
      "cell_type": "markdown",
      "source": [
        "Write a Python function that accepts a string and counts the number of upper and lower case letters.\n",
        "Sample String : 'The quick Brow Fox'\n",
        "Expected Output :\n",
        "No. of Upper case characters : 3\n",
        "No. of Lower case Characters : 12"
      ],
      "metadata": {
        "id": "-pw9CA4gNLX9"
      }
    },
    {
      "cell_type": "code",
      "source": [
        "def str_val(s):\n",
        "    u = sum(1 for i in s if i.isupper())\n",
        "    l = sum(1 for i in s if i.islower())\n",
        "    print(\"No. of Upper case characters : %s\\nNo. of Lower case characters : %s\" %(u,l))\n",
        "\n",
        "str_val(\"The quick Brow Fox\")"
      ],
      "metadata": {
        "colab": {
          "base_uri": "https://localhost:8080/"
        },
        "id": "9DLEB7YeWwR6",
        "outputId": "4384b31f-a309-4bb3-8bd0-7c07fe41ecad"
      },
      "execution_count": null,
      "outputs": [
        {
          "output_type": "stream",
          "name": "stdout",
          "text": [
            "No. of Upper case characters : 3\n",
            "No. of Lower case characters : 12\n"
          ]
        }
      ]
    },
    {
      "cell_type": "code",
      "source": [],
      "metadata": {
        "colab": {
          "base_uri": "https://localhost:8080/"
        },
        "id": "0K9B0u5ckKoI",
        "outputId": "f9f6539c-d7be-4732-fea1-34c56dff778e"
      },
      "execution_count": null,
      "outputs": [
        {
          "output_type": "stream",
          "name": "stdout",
          "text": [
            "No. of Upper case characters : 3,No. of Lower case characters : 12\n"
          ]
        }
      ]
    },
    {
      "cell_type": "markdown",
      "source": [
        "Write a Python function that takes a list and returns a new list with distinct elements from the first list.\n",
        "\n",
        "Sample List : [1,2,3,3,3,3,4,5]\n",
        "\n",
        "Unique List : [1, 2, 3, 4, 5]"
      ],
      "metadata": {
        "id": "nbyRXX-5ggET"
      }
    },
    {
      "cell_type": "code",
      "source": [
        "def unique(list1):\n",
        "  unique_list = []\n",
        "  for x in list1:\n",
        "    if x not in unique_list:\n",
        "      unique_list.append(x)\n",
        "  for x in unique_list:\n",
        "        print(x)"
      ],
      "metadata": {
        "id": "_ONsvM7BT6dx"
      },
      "execution_count": null,
      "outputs": []
    },
    {
      "cell_type": "code",
      "source": [
        "unique([1,2,3,3,3,3,4,5])"
      ],
      "metadata": {
        "colab": {
          "base_uri": "https://localhost:8080/"
        },
        "id": "OKfHa2RLhsF7",
        "outputId": "9064da52-6fde-4043-cc7a-15e3569da036"
      },
      "execution_count": null,
      "outputs": [
        {
          "output_type": "stream",
          "name": "stdout",
          "text": [
            "1\n",
            "2\n",
            "3\n",
            "4\n",
            "5\n"
          ]
        }
      ]
    },
    {
      "cell_type": "markdown",
      "source": [
        "\n",
        "\n",
        "```\n",
        "Write a Python program to print the even numbers from a given list.\n",
        "Sample List : [1, 2, 3, 4, 5, 6, 7, 8, 9]\n",
        "Expected Result : [2, 4, 6, 8]\n",
        "```\n",
        "\n"
      ],
      "metadata": {
        "id": "tLMWT09xlsMf"
      }
    },
    {
      "cell_type": "code",
      "source": [
        "def even_numbers(list1):\n",
        "  list2 = []\n",
        "  print('list1', list1)\n",
        "  for num in list1:\n",
        "    if num % 2 == 0:\n",
        "      list2.append(num)\n",
        "  print(list2)\n",
        "\n",
        "\n",
        "even_numbers([1,2,3,4,5,6,7,8,9])"
      ],
      "metadata": {
        "colab": {
          "base_uri": "https://localhost:8080/"
        },
        "id": "WpOxoQYFh8EG",
        "outputId": "ddef0b6a-589e-49e4-eb0d-0e6d3399b775"
      },
      "execution_count": null,
      "outputs": [
        {
          "output_type": "stream",
          "name": "stdout",
          "text": [
            "list1 [1, 2, 3, 4, 5, 6, 7, 8, 9]\n",
            "[2, 4, 6, 8]\n"
          ]
        }
      ]
    },
    {
      "cell_type": "markdown",
      "source": [
        "\n",
        "\n",
        "```\n",
        "Write a Python function that accepts a hyphen-separated sequence of words as input and prints the words in a hyphen-separated sequence after sorting them alphabetically.\n",
        "Sample Items : green-red-yellow-black-white\n",
        "Expected Result : black-green-red-white-yellow\n",
        "```\n",
        "\n"
      ],
      "metadata": {
        "id": "Fre3USAUl_Dj"
      }
    },
    {
      "cell_type": "code",
      "source": [
        "def hyphen_words(item):\n",
        "  x = [x for x in input().strip().split(\"-\")]\n",
        "  x.sort()\n",
        "  return x\n"
      ],
      "metadata": {
        "colab": {
          "base_uri": "https://localhost:8080/"
        },
        "id": "456YOzHLsUMQ",
        "outputId": "6b77cfba-7805-4af0-bf47-3e97ea38dd2c"
      },
      "execution_count": null,
      "outputs": [
        {
          "output_type": "stream",
          "name": "stdout",
          "text": [
            "green-red-yellow-black-white\n",
            "black green red white yellow\n"
          ]
        }
      ]
    },
    {
      "cell_type": "markdown",
      "source": [
        "\n",
        "\n",
        "```\n",
        "Define a function that accepts 2 values and return its sum, subtraction and multiplication.\n",
        "```\n",
        "\n"
      ],
      "metadata": {
        "id": "4-U1Z72CmDOa"
      }
    },
    {
      "cell_type": "code",
      "source": [
        "def sum(a,b):\n",
        "  addition = a + b\n",
        "  return addition\n",
        "def sub(a,b):\n",
        "  sub = a - b\n",
        "  return sub\n",
        "def mult(a,b):\n",
        "  mult = a * b\n",
        "  return mult\n",
        "def sum_sub_mult(a,b):\n",
        "    addition = a + b\n",
        "    sub = a - b\n",
        "    mult = a * b\n",
        "    print(\"The sum of two numbers is: \",addition)\n",
        "    print(\"The substraction of two numbers is: \",sub)\n",
        "    print(\"The multiplication of two numbers is: \",mult)\n",
        "sum_sub_mult(10,10)"
      ],
      "metadata": {
        "colab": {
          "base_uri": "https://localhost:8080/"
        },
        "id": "gY5t5nXsmIIP",
        "outputId": "43967256-40a2-48d0-f100-a74861fcfef4"
      },
      "execution_count": null,
      "outputs": [
        {
          "output_type": "stream",
          "name": "stdout",
          "text": [
            "The sum of two numbers is:  20\n",
            "The substraction of two numbers is:  0\n",
            "The multiplication of two numbers is:  100\n"
          ]
        }
      ]
    },
    {
      "cell_type": "markdown",
      "source": [
        "Write a function that inputs a number and prints the multiplication table of that number"
      ],
      "metadata": {
        "id": "5004uguBmIli"
      }
    },
    {
      "cell_type": "code",
      "source": [
        "def mult_table(ix):\n",
        "  for i in range(1,11):\n",
        "    print(i,\"X\",ix, \"= \", i*ix)\n",
        "\n",
        "\n",
        "mult_table(9)"
      ],
      "metadata": {
        "colab": {
          "base_uri": "https://localhost:8080/"
        },
        "id": "CKgQjDwFmZz7",
        "outputId": "6bed4238-2579-4d90-e099-67e4f9d16be0"
      },
      "execution_count": null,
      "outputs": [
        {
          "output_type": "stream",
          "name": "stdout",
          "text": [
            "1 X 9 =  9\n",
            "2 X 9 =  18\n",
            "3 X 9 =  27\n",
            "4 X 9 =  36\n",
            "5 X 9 =  45\n",
            "6 X 9 =  54\n",
            "7 X 9 =  63\n",
            "8 X 9 =  72\n",
            "9 X 9 =  81\n",
            "10 X 9 =  90\n"
          ]
        }
      ]
    },
    {
      "cell_type": "markdown",
      "source": [
        "\n",
        "\n",
        "```\n",
        "write a python function to reverse a string , take string as input\n",
        "```\n",
        "\n"
      ],
      "metadata": {
        "id": "usWt0H9omaUD"
      }
    },
    {
      "cell_type": "code",
      "source": [
        "def reversed_string(i):\n",
        "  a = i[::-1]\n",
        "  return a\n",
        "reversed_string(\"Rishi\")"
      ],
      "metadata": {
        "colab": {
          "base_uri": "https://localhost:8080/",
          "height": 35
        },
        "id": "TMWkkrKrxbxU",
        "outputId": "37894084-3e91-4256-c230-1fedc9dbad29"
      },
      "execution_count": null,
      "outputs": [
        {
          "output_type": "execute_result",
          "data": {
            "text/plain": [
              "'ihsiR'"
            ],
            "application/vnd.google.colaboratory.intrinsic+json": {
              "type": "string"
            }
          },
          "metadata": {},
          "execution_count": 118
        }
      ]
    },
    {
      "cell_type": "markdown",
      "source": [
        "```\n",
        "write a Function to take a string list and concat them into single string\n",
        "\n",
        "Input ['P','R', 'E\", 'M']\n",
        "\n",
        "output = PREM\n",
        "```"
      ],
      "metadata": {
        "id": "hy1wwtFEgxTB"
      }
    },
    {
      "cell_type": "code",
      "source": [
        "def concat_string(n):\n",
        "  str1 = \"\"\n",
        "  for i in n:\n",
        "    print(i)\n",
        "    print(type(i))\n",
        "    str1 = str1 + i\n",
        "  return str1\n",
        "\n",
        "\n",
        "\n",
        "concat_string([\"P\",\"R\",\"E\",\"M\"])"
      ],
      "metadata": {
        "colab": {
          "base_uri": "https://localhost:8080/",
          "height": 174
        },
        "id": "MaDxdKtFg6Yx",
        "outputId": "19fb17d2-3d17-408d-d7c5-92472273f07d"
      },
      "execution_count": null,
      "outputs": [
        {
          "output_type": "stream",
          "name": "stdout",
          "text": [
            "P\n",
            "<class 'str'>\n",
            "R\n",
            "<class 'str'>\n",
            "E\n",
            "<class 'str'>\n",
            "M\n",
            "<class 'str'>\n"
          ]
        },
        {
          "output_type": "execute_result",
          "data": {
            "text/plain": [
              "'PREM'"
            ],
            "application/vnd.google.colaboratory.intrinsic+json": {
              "type": "string"
            }
          },
          "metadata": {},
          "execution_count": 11
        }
      ]
    },
    {
      "cell_type": "markdown",
      "source": [
        "write a Function to take a integer list and add print\n",
        "input [1,5,2,3]  ouput =11"
      ],
      "metadata": {
        "id": "XE9B8iQSkL2b"
      }
    },
    {
      "cell_type": "code",
      "source": [
        "def num_lst(n):\n",
        "  add = 0\n",
        "  for i in n:\n",
        "    add = add + i\n",
        "    #print(i)\n",
        "  return add\n",
        "num_lst([1,5,2,3])"
      ],
      "metadata": {
        "colab": {
          "base_uri": "https://localhost:8080/"
        },
        "id": "cIIWBHjpixfh",
        "outputId": "9f10d4bd-2a99-4309-d094-f99d89a753cd"
      },
      "execution_count": null,
      "outputs": [
        {
          "output_type": "execute_result",
          "data": {
            "text/plain": [
              "11"
            ]
          },
          "metadata": {},
          "execution_count": 17
        }
      ]
    },
    {
      "cell_type": "markdown",
      "source": [
        "write a Function to take a string list and concat them into single string\n",
        "[\"My\", \"Name\" , \"is\", \"Prem\"]     output My Name is Prem"
      ],
      "metadata": {
        "id": "rlDQCC11mSeL"
      }
    },
    {
      "cell_type": "code",
      "source": [
        "def string(n):\n",
        "  str2 = \"\"\n",
        "  for i in n:\n",
        "    str2 = str2 + \" \" + i\n",
        "    #print(str2)\n",
        "  return str2\n",
        "string([\"My\",\"Name\",\"is\",\"Prem\"])"
      ],
      "metadata": {
        "colab": {
          "base_uri": "https://localhost:8080/",
          "height": 35
        },
        "id": "Php-vccBk2gE",
        "outputId": "b4e0f21d-62cc-4723-a365-e8609490a00f"
      },
      "execution_count": null,
      "outputs": [
        {
          "output_type": "execute_result",
          "data": {
            "text/plain": [
              "' My Name is Prem'"
            ],
            "application/vnd.google.colaboratory.intrinsic+json": {
              "type": "string"
            }
          },
          "metadata": {},
          "execution_count": 22
        }
      ]
    },
    {
      "cell_type": "markdown",
      "source": [
        "Write a Python function to multiply all the numbers in a list.\n",
        "Sample List : (8, 2, 3, -1, 7)\n",
        "Expected Output : -336"
      ],
      "metadata": {
        "id": "L4dJV_l2nmnP"
      }
    },
    {
      "cell_type": "code",
      "source": [
        "def mult(n):\n",
        "  mult = 1\n",
        "  for i in n:\n",
        "    mult = mult * i\n",
        "    #print(mult)\n",
        "  return mult\n",
        "mult([8,2,3,-1,7])"
      ],
      "metadata": {
        "colab": {
          "base_uri": "https://localhost:8080/"
        },
        "id": "iWP4o4OunnwM",
        "outputId": "f51eaba8-4445-46b6-91ac-80e216e0a4ed"
      },
      "execution_count": null,
      "outputs": [
        {
          "output_type": "execute_result",
          "data": {
            "text/plain": [
              "-336"
            ]
          },
          "metadata": {},
          "execution_count": 25
        }
      ]
    },
    {
      "cell_type": "markdown",
      "source": [
        "write a function to print sqrt of a given number  input = 9  output =3"
      ],
      "metadata": {
        "id": "a4LSUuK8oJLi"
      }
    },
    {
      "cell_type": "code",
      "source": [
        "import math\n",
        "def square(k):\n",
        "  sqr= math.sqrt(k)\n",
        "  #print(sqr)\n",
        "  return int(sqr)\n",
        "square(9)\n"
      ],
      "metadata": {
        "colab": {
          "base_uri": "https://localhost:8080/"
        },
        "id": "XyJ0HjSJoIqS",
        "outputId": "5382469c-6783-4edf-85d7-7e97634aa737"
      },
      "execution_count": null,
      "outputs": [
        {
          "output_type": "execute_result",
          "data": {
            "text/plain": [
              "3"
            ]
          },
          "metadata": {},
          "execution_count": 32
        }
      ]
    },
    {
      "cell_type": "markdown",
      "source": [
        "write a single  function that take to integers a and b and print a+b and a-b"
      ],
      "metadata": {
        "id": "1OvHcQnRpsjJ"
      }
    },
    {
      "cell_type": "code",
      "source": [
        "def add(a,b):\n",
        "  return a+b,a-b\n",
        "add(10,11)"
      ],
      "metadata": {
        "colab": {
          "base_uri": "https://localhost:8080/"
        },
        "id": "5kYNjnuVptau",
        "outputId": "5ea046b0-401b-40e3-a4fe-676f21c0dad4"
      },
      "execution_count": null,
      "outputs": [
        {
          "output_type": "execute_result",
          "data": {
            "text/plain": [
              "(21, -1)"
            ]
          },
          "metadata": {},
          "execution_count": 34
        }
      ]
    },
    {
      "cell_type": "code",
      "source": [
        "def mult(a,b):\n",
        "  return a*b,int(a/b)\n",
        "mult(20,20)"
      ],
      "metadata": {
        "colab": {
          "base_uri": "https://localhost:8080/"
        },
        "id": "-wSftSgKp8Y0",
        "outputId": "37f5182c-289c-4546-c61b-56a44534617b"
      },
      "execution_count": null,
      "outputs": [
        {
          "output_type": "execute_result",
          "data": {
            "text/plain": [
              "(400, 1)"
            ]
          },
          "metadata": {},
          "execution_count": 36
        }
      ]
    },
    {
      "cell_type": "markdown",
      "source": [
        "write a function with the same name that can take a,b or a,b,c and return a+b  or a+b+c"
      ],
      "metadata": {
        "id": "_9efDUW0qYzP"
      }
    },
    {
      "cell_type": "code",
      "source": [
        "def add_nums_2(a,b,c):\n",
        "  return a+b+c\n",
        "\n",
        "\n",
        "\n",
        "def add_nums(a,b):\n",
        "  return a+b\n",
        "\n",
        "\n",
        "print(\"Three numbers: \",add_nums_2(1,2,3))\n",
        "print(\"Two numbers: \",add_nums(1,2))\n",
        "# print(\"Three numbers: \",add_nums_2(1,2,3,4)) # this will throw an error, We dont have a function with 4 input arguments"
      ],
      "metadata": {
        "colab": {
          "base_uri": "https://localhost:8080/"
        },
        "id": "zSP-sjYWqKpw",
        "outputId": "3f558b4e-4c79-45ea-ac48-3de788227c99"
      },
      "execution_count": null,
      "outputs": [
        {
          "output_type": "stream",
          "name": "stdout",
          "text": [
            "Three numbers:  6\n",
            "Two numbers:  3\n"
          ]
        }
      ]
    },
    {
      "cell_type": "markdown",
      "source": [
        "calculate the area of a circle"
      ],
      "metadata": {
        "id": "gw40rSZar6G6"
      }
    },
    {
      "cell_type": "code",
      "source": [
        "import math\n",
        "def area_of_circle(radius):\n",
        "  area = math.pi * radius ** 2\n",
        "  return area\n",
        "\n",
        "print(round(area_of_circle(10),2))\n",
        "area_of_circle(11)"
      ],
      "metadata": {
        "colab": {
          "base_uri": "https://localhost:8080/"
        },
        "id": "1srF_XdWqqjY",
        "outputId": "6c0b7334-3cf4-46d0-b4e1-75ea23aea62f"
      },
      "execution_count": null,
      "outputs": [
        {
          "output_type": "stream",
          "name": "stdout",
          "text": [
            "314.16\n"
          ]
        },
        {
          "output_type": "execute_result",
          "data": {
            "text/plain": [
              "380.132711084365"
            ]
          },
          "metadata": {},
          "execution_count": 47
        }
      ]
    },
    {
      "cell_type": "markdown",
      "source": [
        "Write a function called get_circle_perimeter with one argument\n",
        "(radius). This function should return the perimeter of a circle"
      ],
      "metadata": {
        "id": "pQi_0v61tGDR"
      }
    },
    {
      "cell_type": "code",
      "source": [
        "import math\n",
        "def get_circle_perimeter(radius):\n",
        "  perimeter = math.pi * radius\n",
        "  return round(perimeter,2)\n",
        "get_circle_perimeter(10)"
      ],
      "metadata": {
        "colab": {
          "base_uri": "https://localhost:8080/"
        },
        "id": "nEyeBhX_sOZA",
        "outputId": "23fe42f4-3917-49ff-b53f-949488b486a9"
      },
      "execution_count": null,
      "outputs": [
        {
          "output_type": "execute_result",
          "data": {
            "text/plain": [
              "31.42"
            ]
          },
          "metadata": {},
          "execution_count": 49
        }
      ]
    },
    {
      "cell_type": "markdown",
      "source": [
        "Write a function called print_name that asks the user first for his first\n",
        "name and then the surname. The function should print on the screen in\n",
        "one line the surname, a comma and then a first name. If the inputs are\n",
        "Prem and Kora it should appear on the screen:\n",
        "Kora, Prem"
      ],
      "metadata": {
        "id": "r4cef30euQXV"
      }
    },
    {
      "cell_type": "code",
      "source": [
        "def print_name(first_name,surname):\n",
        "  return surname,first_name\n",
        "print(*print_name(\"Prem\",\"Kora\"))"
      ],
      "metadata": {
        "colab": {
          "base_uri": "https://localhost:8080/"
        },
        "id": "ijo9AjKAuPtB",
        "outputId": "f7189561-5f39-4249-981c-2de7eaf54542"
      },
      "execution_count": null,
      "outputs": [
        {
          "output_type": "stream",
          "name": "stdout",
          "text": [
            "Kora Prem\n"
          ]
        }
      ]
    },
    {
      "cell_type": "markdown",
      "source": [
        "Write a function called print_circle_perandarea with one argument\n",
        "(radius). This function should print the perimeter and the area of a\n",
        "circle. This function should call the other functions you already wrote\n",
        "(you should not write all the code in a single function!)"
      ],
      "metadata": {
        "id": "IrcASSR-urJy"
      }
    },
    {
      "cell_type": "code",
      "source": [
        "import math\n",
        "def calculate_circle_perimeter(radius):\n",
        "    return 2 * math.pi * radius\n",
        "def calculate_circle_area(radius):\n",
        "    return math.pi * radius**2\n",
        "def print_circle_perandarea(radius):\n",
        "    perimeter = calculate_circle_perimeter(radius)\n",
        "    area = calculate_circle_area(radius)\n",
        "    print(f\"Circle Perimeter with radius {radius}: {perimeter:.2f}\")\n",
        "    print(f\"Circle Area with radius {radius}: {area:.2f}\")\n",
        "calculate_circle_perimeter(10)\n",
        "calculate_circle_area(20)\n",
        "print_circle_perandarea(30)"
      ],
      "metadata": {
        "colab": {
          "base_uri": "https://localhost:8080/"
        },
        "id": "1ywDX_tUuf_w",
        "outputId": "3363fe4c-a5a7-427d-87d6-7921684aacdf"
      },
      "execution_count": null,
      "outputs": [
        {
          "output_type": "stream",
          "name": "stdout",
          "text": [
            "Circle Perimeter with radius 30: 188.50\n",
            "Circle Area with radius 30: 2827.43\n"
          ]
        }
      ]
    },
    {
      "cell_type": "markdown",
      "source": [
        "create a function to display list of all the even numbers and odd numbers . Now create a new function that will call even numbers and odd numbers and print them"
      ],
      "metadata": {
        "id": "wdZTawHtysME"
      }
    },
    {
      "cell_type": "code",
      "source": [
        "def even_num(n):\n",
        "  eve_num_new = []\n",
        "  for i in n:\n",
        "    if i % 2 == 0:\n",
        "      eve_num_new.append(i)\n",
        "  return eve_num_new\n",
        "def odd_num(n):\n",
        "  odd_num_new = []\n",
        "  for i in n:\n",
        "    if i % 2 != 0:\n",
        "      odd_num_new.append(i)\n",
        "  return odd_num_new\n",
        "def evenandodd(n):\n",
        "  even_numbers = even_num(n)\n",
        "  odd_numbers  = odd_num(n)\n",
        "  print(f\"The even numbers are {even_numbers}\")\n",
        "  print(f\"The odd numbers are {odd_numbers}\")\n",
        "even_num([1,2,3,4,5,6,7,8])\n",
        "odd_num([1,2,3,4,5,6,7,8,9])\n",
        "evenandodd([1,2,3,4,5,6,7,8,9])"
      ],
      "metadata": {
        "colab": {
          "base_uri": "https://localhost:8080/"
        },
        "id": "-Bp3ajGF04ae",
        "outputId": "fdae993e-d540-4d65-f64c-9d004ca68864"
      },
      "execution_count": null,
      "outputs": [
        {
          "output_type": "stream",
          "name": "stdout",
          "text": [
            "The even numbers are [2, 4, 6, 8]\n",
            "The odd numbers are [1, 3, 5, 7, 9]\n"
          ]
        }
      ]
    },
    {
      "cell_type": "markdown",
      "source": [
        "Find the largest item from a given list\n",
        "[3,5,8,1]  output=8"
      ],
      "metadata": {
        "id": "UVtilvX-4yaM"
      }
    },
    {
      "cell_type": "code",
      "source": [
        "def biggest_item(lst):\n",
        "  c = max(lst)\n",
        "  return c\n",
        "biggest_item([3,5,8,1])"
      ],
      "metadata": {
        "colab": {
          "base_uri": "https://localhost:8080/"
        },
        "id": "JC_xh2EUzM1W",
        "outputId": "c6358356-3a52-4aeb-9b21-535b048b45ff"
      },
      "execution_count": null,
      "outputs": [
        {
          "output_type": "execute_result",
          "data": {
            "text/plain": [
              "8"
            ]
          },
          "metadata": {},
          "execution_count": 83
        }
      ]
    },
    {
      "cell_type": "markdown",
      "source": [
        "printing the squares of 10 numbers given by the user using a function"
      ],
      "metadata": {
        "id": "fw9HYLUu9T9R"
      }
    },
    {
      "cell_type": "code",
      "source": [
        "def sq_of_num():\n",
        "  for i in range(1,10):\n",
        "    sqr2 = input(\"Enter a number: \")\n",
        "    sqr = int(sqr2) ** 2\n",
        "    print(sqr)\n",
        "\n",
        "sq_of_num()"
      ],
      "metadata": {
        "colab": {
          "base_uri": "https://localhost:8080/"
        },
        "id": "WTU6C40z5hlL",
        "outputId": "0e10e3ca-499b-4a00-d4f8-14f29ae4a165"
      },
      "execution_count": null,
      "outputs": [
        {
          "output_type": "stream",
          "name": "stdout",
          "text": [
            "Enter a number: 1\n",
            "1\n",
            "Enter a number: 1\n",
            "1\n",
            "Enter a number: 3\n",
            "9\n",
            "Enter a number: 7\n",
            "49\n",
            "Enter a number: 8\n",
            "64\n",
            "Enter a number: 9\n",
            "81\n",
            "Enter a number: 10\n",
            "100\n",
            "Enter a number: 11\n",
            "121\n",
            "Enter a number: 12\n",
            "144\n"
          ]
        }
      ]
    },
    {
      "cell_type": "markdown",
      "source": [
        "write a function to average of four numbers, Get 4 numbers in a loop\n",
        "\n",
        "input:\n",
        "1\n",
        "2\n",
        "6\n",
        "4\n",
        "\n",
        "output:\n",
        "3.25"
      ],
      "metadata": {
        "id": "13zVyc9dAGmM"
      }
    },
    {
      "cell_type": "code",
      "source": [
        "def aver_num():\n",
        "  num_s = 0\n",
        "  val = 0\n",
        "  for i in range(1,5):\n",
        "    val = val + 1\n",
        "    aver1 = input(\"Enter your number: \")\n",
        "    num_s = int(aver1) + num_s\n",
        "  return num_s/val\n",
        "aver_num()"
      ],
      "metadata": {
        "colab": {
          "base_uri": "https://localhost:8080/"
        },
        "id": "0TKHpFdk9u5k",
        "outputId": "ad25aa01-84a5-4352-ff5d-521bfae6c612"
      },
      "execution_count": null,
      "outputs": [
        {
          "name": "stdout",
          "output_type": "stream",
          "text": [
            "Enter your number: 1\n",
            "Enter your number: 2\n",
            "Enter your number: 6\n",
            "Enter your number: 4\n"
          ]
        },
        {
          "output_type": "execute_result",
          "data": {
            "text/plain": [
              "3.25"
            ]
          },
          "metadata": {},
          "execution_count": 139
        }
      ]
    },
    {
      "cell_type": "markdown",
      "source": [
        "Write some Python code that does the below 10 times:\n",
        "Asks the user for a base and an exponent, and then shows the\n",
        "result of the base to the power of the exponent."
      ],
      "metadata": {
        "id": "EWcuxv5rFvBl"
      }
    },
    {
      "cell_type": "code",
      "source": [
        "def ten_times():\n",
        "\n",
        "  for i in range(0,10):\n",
        "    base = int(input(\"Enter a base: \"))\n",
        "    expo = int(input(\"enter a exponent: \"))\n",
        "    final = base ** expo\n",
        "    #print(i)\n",
        "    print(final)\n",
        "ten_times()"
      ],
      "metadata": {
        "colab": {
          "base_uri": "https://localhost:8080/"
        },
        "id": "FFxvWPwjGVMI",
        "outputId": "de02c09b-8e7b-4175-ed2e-2d6dd80bbf41"
      },
      "execution_count": null,
      "outputs": [
        {
          "output_type": "stream",
          "name": "stdout",
          "text": [
            "Enter a base: 1\n",
            "enter a exponent: 2\n",
            "1\n",
            "Enter a base: 2\n",
            "enter a exponent: 3\n",
            "8\n",
            "Enter a base: 4\n",
            "enter a exponent: 6\n",
            "4096\n",
            "Enter a base: 5\n",
            "enter a exponent: 2\n",
            "25\n",
            "Enter a base: 6\n",
            "enter a exponent: 6\n",
            "46656\n",
            "Enter a base: 3\n",
            "enter a exponent: 2\n",
            "9\n",
            "Enter a base: 7\n",
            "enter a exponent: 2\n",
            "49\n",
            "Enter a base: 8\n",
            "enter a exponent: 3\n",
            "512\n",
            "Enter a base: 8\n",
            "enter a exponent: 4\n",
            "4096\n",
            "Enter a base: 10\n",
            "enter a exponent: 10\n",
            "10000000000\n"
          ]
        }
      ]
    },
    {
      "cell_type": "markdown",
      "source": [
        "Write a function called get_circle_perimeter with one argument (radius).\n",
        "\n",
        "This function should return the perimeter of a circle"
      ],
      "metadata": {
        "id": "D6luNxd5M4bY"
      }
    },
    {
      "cell_type": "code",
      "source": [
        "import math\n",
        "def get_circle_perimeter(radius):\n",
        "  perimeter = 2 * math.pi * radius\n",
        "  return round(perimeter,2)\n",
        "get_circle_perimeter(10)"
      ],
      "metadata": {
        "colab": {
          "base_uri": "https://localhost:8080/"
        },
        "id": "ohRvNhDGNM62",
        "outputId": "3a21370b-d99f-4733-c8a8-eb1c53944bc8"
      },
      "execution_count": null,
      "outputs": [
        {
          "output_type": "execute_result",
          "data": {
            "text/plain": [
              "62.83"
            ]
          },
          "metadata": {},
          "execution_count": 147
        }
      ]
    },
    {
      "cell_type": "markdown",
      "source": [
        "For a given number n, the series 1+2+3+...+n = n*(n+1)/2.\n",
        "Write a function called summation(), such that:\n",
        "\n",
        "1) it takes any positive number as input\n",
        "\n",
        "2) converts the input to the nearest integer less than that (hint: you can use int())\n",
        "\n",
        "3) returns the summation of the series using the formula provided above\n",
        "\n",
        "if it negative then return print(\"try a positive number\")"
      ],
      "metadata": {
        "id": "nxiYUYSzNuGf"
      }
    },
    {
      "cell_type": "code",
      "source": [
        "n= 5\n",
        "sunme = 1+2+3+4+5\n",
        "print(sunme)\n",
        "sunme1= n*(n+1)/2\n",
        "print(sunme1)"
      ],
      "metadata": {
        "colab": {
          "base_uri": "https://localhost:8080/"
        },
        "id": "rbgcgs8TOc1u",
        "outputId": "5aa106be-72b4-4292-b52c-7477aa0e76dd"
      },
      "execution_count": null,
      "outputs": [
        {
          "output_type": "stream",
          "name": "stdout",
          "text": [
            "15\n",
            "15.0\n"
          ]
        }
      ]
    },
    {
      "cell_type": "code",
      "source": [
        "def summation():\n",
        "  n = input(\"Enter a number: \")\n",
        "  z = int(n)\n",
        "  sunme = z* (z + 1)/2\n",
        "  return sunme\n",
        "summation()"
      ],
      "metadata": {
        "colab": {
          "base_uri": "https://localhost:8080/"
        },
        "id": "Xj8moePZQzJq",
        "outputId": "399a8404-2345-422d-cf42-ec9a1b528c40"
      },
      "execution_count": null,
      "outputs": [
        {
          "name": "stdout",
          "output_type": "stream",
          "text": [
            "Enter a number: 5\n"
          ]
        },
        {
          "output_type": "execute_result",
          "data": {
            "text/plain": [
              "15.0"
            ]
          },
          "metadata": {},
          "execution_count": 158
        }
      ]
    },
    {
      "cell_type": "markdown",
      "source": [
        "Above sum using FOR loop"
      ],
      "metadata": {
        "id": "g0FZds-BS__D"
      }
    },
    {
      "cell_type": "code",
      "source": [
        "def sum1(n_val):\n",
        "  #print(n_val)\n",
        "  int_val=0\n",
        "  for i in range(1,int(n_val)+1):\n",
        "    #print(i)\n",
        "    int_val=i+int_val\n",
        "  return int_val\n",
        "\n",
        "\n",
        "sum1(5)"
      ],
      "metadata": {
        "colab": {
          "base_uri": "https://localhost:8080/"
        },
        "id": "_69xLNk4S_u-",
        "outputId": "5e376c9f-5b4a-4ca4-f90f-eb26a751c4a1"
      },
      "execution_count": null,
      "outputs": [
        {
          "output_type": "execute_result",
          "data": {
            "text/plain": [
              "15"
            ]
          },
          "metadata": {},
          "execution_count": 167
        }
      ]
    },
    {
      "cell_type": "markdown",
      "source": [
        "# ***LOOPS***"
      ],
      "metadata": {
        "id": "K3ovz1-KWn1X"
      }
    },
    {
      "cell_type": "markdown",
      "source": [
        "\n",
        "\n",
        "```\n",
        "Write a code to get an integer N and print the even values from 1 till N in a separate line.\n",
        "\n",
        "Input Description:\n",
        "A single line contains an integer N.\n",
        "\n",
        "Output Description:\n",
        "Print the even values from 1 to N in a separate line.\n",
        "```\n",
        "\n"
      ],
      "metadata": {
        "id": "tT0VWxtVWMCz"
      }
    },
    {
      "cell_type": "code",
      "source": [
        "n = input(\"Enter a number: \")\n",
        "lst = []\n",
        "for i in range(1,len(n)+1):\n",
        "  if i%2 != 0:\n",
        "    lst.append(i)\n",
        "  else:\n",
        "    print(\"The even values are: \",i)\n",
        "  #print(int(i))\n"
      ],
      "metadata": {
        "colab": {
          "base_uri": "https://localhost:8080/"
        },
        "id": "Vlh-MnuTWOCh",
        "outputId": "2afd6707-59bb-4ce7-89ec-e955f106696d"
      },
      "execution_count": null,
      "outputs": [
        {
          "output_type": "stream",
          "name": "stdout",
          "text": [
            "Enter a number: 12345678\n",
            "The even values are:  2\n",
            "The even values are:  4\n",
            "The even values are:  6\n",
            "The even values are:  8\n"
          ]
        }
      ]
    },
    {
      "cell_type": "markdown",
      "source": [
        "\n",
        "\n",
        "```\n",
        "Write a code to get an integer N and print the sum of  values from 1 to N.\n",
        "\n",
        "Input Description:\n",
        "A single line contains an integer N.\n",
        "\n",
        "Output Description:\n",
        "Print the sum of values from 1 to N.\n",
        "\n",
        "Sample Input :\n",
        "10\n",
        "Sample Output :\n",
        "55\n",
        "```\n",
        "\n"
      ],
      "metadata": {
        "id": "0Mmtptr1WOpi"
      }
    },
    {
      "cell_type": "code",
      "source": [
        "n = input(\"Enter a number: \")\n",
        "s = 0\n",
        "#print(type(n))\n",
        "for i in range(1,len(n)+1):\n",
        "  s = s + i\n",
        "print(s)"
      ],
      "metadata": {
        "colab": {
          "base_uri": "https://localhost:8080/"
        },
        "id": "6WiVGTjKWXMM",
        "outputId": "10854a5f-b3bf-43c0-e7cf-3c2d834ee9ab"
      },
      "execution_count": null,
      "outputs": [
        {
          "output_type": "stream",
          "name": "stdout",
          "text": [
            "Enter a number: 123\n",
            "6\n"
          ]
        }
      ]
    },
    {
      "cell_type": "markdown",
      "source": [
        "\n",
        "\n",
        "```\n",
        "Write a code to get 2 integers as input and add the integers without any carry.\n",
        "\n",
        "Input Description:\n",
        "A single line containing 2 integers.\n",
        "\n",
        "Output Description:\n",
        "Print sum of the 2 integers without carry\n",
        "\n",
        "Sample Input :\n",
        "44 66\n",
        "Sample Output :\n",
        "0\n",
        "```\n",
        "\n"
      ],
      "metadata": {
        "id": "nD3GyeqbWXtc"
      }
    },
    {
      "cell_type": "code",
      "source": [],
      "metadata": {
        "id": "qt-8M806WfYo"
      },
      "execution_count": null,
      "outputs": []
    },
    {
      "cell_type": "markdown",
      "source": [
        "\n",
        "\n",
        "```\n",
        "Write a code to get an integer N and print values from 1 till N in a separate line.\n",
        "\n",
        "Input Description:\n",
        "A single line contains an integer N.\n",
        "\n",
        "Output Description:\n",
        "Print the values from 1 to N in a separate line.\n",
        "\n",
        "Sample Input :\n",
        "5\n",
        "Sample Output :\n",
        "1\n",
        "2\n",
        "3\n",
        "4\n",
        "5\n",
        "```\n",
        "\n"
      ],
      "metadata": {
        "id": "mCr6DVNyWick"
      }
    },
    {
      "cell_type": "code",
      "source": [
        "n = input(\"Enter a number: \")\n",
        "for i in range(1,int(n)+1):\n",
        "  print(i)"
      ],
      "metadata": {
        "colab": {
          "base_uri": "https://localhost:8080/"
        },
        "id": "MWcSbaWoWkhQ",
        "outputId": "c907bbd7-c63c-4e20-9fed-a0be687bc830"
      },
      "execution_count": null,
      "outputs": [
        {
          "output_type": "stream",
          "name": "stdout",
          "text": [
            "Enter a number: 5\n",
            "1\n",
            "2\n",
            "3\n",
            "4\n",
            "5\n"
          ]
        }
      ]
    },
    {
      "cell_type": "markdown",
      "source": [
        "\n",
        "\n",
        "```\n",
        "Write a code to get an integer N and print the values from N to 1.\n",
        "\n",
        "Input Description:\n",
        "A single line contains an integer N.\n",
        "\n",
        "Output Description:\n",
        "Print the values from N to 1 in a separate line.\n",
        "\n",
        "Sample Input :\n",
        "10\n",
        "Sample Output :\n",
        "10\n",
        "9\n",
        "8\n",
        "7\n",
        "6\n",
        "5\n",
        "4\n",
        "3\n",
        "```\n",
        "\n"
      ],
      "metadata": {
        "id": "k9DgIXoVW13Y"
      }
    },
    {
      "cell_type": "code",
      "source": [
        "n = int(input(\"Enter a number: \"))\n",
        "for i in range(n,0,-2):\n",
        "  print(i)"
      ],
      "metadata": {
        "colab": {
          "base_uri": "https://localhost:8080/"
        },
        "outputId": "781a7526-e257-4d25-81ae-0528151d0417",
        "id": "IRE4O1ZGwqrI"
      },
      "execution_count": null,
      "outputs": [
        {
          "output_type": "stream",
          "name": "stdout",
          "text": [
            "Enter a number: 10\n",
            "10\n",
            "8\n",
            "6\n",
            "4\n",
            "2\n"
          ]
        }
      ]
    },
    {
      "cell_type": "markdown",
      "source": [
        "\n",
        "\n",
        "```\n",
        "Write a program to get a string as input and reverse the string without using temporary variable.\n",
        "\n",
        "Input Description:\n",
        "A single line containing a string.\n",
        "\n",
        "Output Description:\n",
        "Print the reversed string.\n",
        "\n",
        "Sample Input :\n",
        "GUVI\n",
        "Sample Output :\n",
        "IVUG\n",
        "```\n",
        "\n"
      ],
      "metadata": {
        "id": "cmxvimw3XDHl"
      }
    },
    {
      "cell_type": "code",
      "source": [
        "n=input(\"Enter a string: \")\n",
        "print(n[::-1])"
      ],
      "metadata": {
        "colab": {
          "base_uri": "https://localhost:8080/"
        },
        "id": "REiKcutpW9cB",
        "outputId": "068aed15-b67b-4714-9e8e-88d8ccab48bf"
      },
      "execution_count": null,
      "outputs": [
        {
          "output_type": "stream",
          "name": "stdout",
          "text": [
            "Enter a string: GUVI\n",
            "IVUG\n"
          ]
        }
      ]
    },
    {
      "cell_type": "markdown",
      "source": [
        "\n",
        "\n",
        "```\n",
        "Write a code to get a integer n as input and calculate the smallest perfect power of 2 greater than n.\n",
        "\n",
        "Input Description:\n",
        "A single line containing an integer,n.\n",
        "\n",
        "Output Description:\n",
        "Print the smallest perfect power of 2 greater than n.\n",
        "\n",
        "Sample Input :\n",
        "48\n",
        "Sample Output :\n",
        "64\n",
        "```\n",
        "\n"
      ],
      "metadata": {
        "id": "XIj2SlbfXFQk"
      }
    },
    {
      "cell_type": "code",
      "source": [],
      "metadata": {
        "id": "IUEbJkgrXJd2"
      },
      "execution_count": null,
      "outputs": []
    },
    {
      "cell_type": "markdown",
      "source": [
        "\n",
        "\n",
        "```\n",
        "Write a code to get an integer N and print the digits of the integer.\n",
        "\n",
        "Input Description:\n",
        "A single line contains an integer N.\n",
        "\n",
        "Output Description:\n",
        "Print the digits of the integer in a single line separated by space,\n",
        "\n",
        "Sample Input :\n",
        "348\n",
        "Sample Output :\n",
        "3 4 8\n",
        "```\n",
        "\n"
      ],
      "metadata": {
        "id": "93DD1m78XJ3v"
      }
    },
    {
      "cell_type": "code",
      "source": [
        "n=int(input())\n",
        "s=str(n)\n",
        "for i in s:\n",
        "    print(i,end=\" \")"
      ],
      "metadata": {
        "colab": {
          "base_uri": "https://localhost:8080/"
        },
        "id": "zgaGwwWJXQVM",
        "outputId": "dc54c6ad-3b7d-45a1-c8f9-6e7d3b0391cb"
      },
      "execution_count": null,
      "outputs": [
        {
          "output_type": "stream",
          "name": "stdout",
          "text": [
            "348\n",
            "3 4 8 "
          ]
        }
      ]
    },
    {
      "cell_type": "markdown",
      "source": [
        "\n",
        "\n",
        "```\n",
        "Write a code to get 2 integers A and N. Print the integer A, N times in separate line.\n",
        "\n",
        "Input Description:\n",
        "First line contains an integer A. Second line contains an Integer N.\n",
        "\n",
        "Output Description:\n",
        "Print the integer A, N times in a separate line.\n",
        "\n",
        "Sample Input :\n",
        "2 3\n",
        "Sample Output :\n",
        "2\n",
        "2\n",
        "2\n",
        "```\n",
        "\n"
      ],
      "metadata": {
        "id": "PMl_I7XlXRAj"
      }
    },
    {
      "cell_type": "code",
      "source": [
        "a = int(input())\n",
        "n = int(input())\n",
        "while n > 0:\n",
        "    n -= 1\n",
        "    if n == 3:\n",
        "      break\n",
        "    print(a)\n"
      ],
      "metadata": {
        "colab": {
          "base_uri": "https://localhost:8080/"
        },
        "id": "3XeAVIlJXXf0",
        "outputId": "cc2e3915-9ed3-40b4-ae6e-17a469e841f6"
      },
      "execution_count": null,
      "outputs": [
        {
          "output_type": "stream",
          "name": "stdout",
          "text": [
            "2\n",
            "3\n",
            "2\n",
            "2\n",
            "2\n"
          ]
        }
      ]
    },
    {
      "cell_type": "markdown",
      "source": [
        "\n",
        "\n",
        "```\n",
        "Write a code to get the input and print it 5 times.\n",
        "\n",
        "Input Description:\n",
        "A single line contains an integer N.\n",
        "\n",
        "Output Description:\n",
        "Output contains 5 lines with each line having the value N.\n",
        "\n",
        "Sample Input :\n",
        "4\n",
        "Sample Output :\n",
        "4\n",
        "4\n",
        "4\n",
        "4\n",
        "4\n",
        "```\n",
        "\n"
      ],
      "metadata": {
        "id": "c1ofdm25XX90"
      }
    },
    {
      "cell_type": "code",
      "source": [
        "num1 = int(input(\"Enter an number: \"))\n",
        "for i in range(0,6):\n",
        "  print(num1)"
      ],
      "metadata": {
        "colab": {
          "base_uri": "https://localhost:8080/"
        },
        "id": "jvJrAHXWXc9C",
        "outputId": "8ec8d75f-8bc9-42c1-8994-67651f9c5a0d"
      },
      "execution_count": null,
      "outputs": [
        {
          "output_type": "stream",
          "name": "stdout",
          "text": [
            "Enter an number: 5\n",
            "5\n",
            "5\n",
            "5\n",
            "5\n",
            "5\n",
            "5\n"
          ]
        }
      ]
    },
    {
      "cell_type": "markdown",
      "source": [
        "\n",
        "\n",
        "```\n",
        "Write a code get an integer number as input and print the sum of the digits.\n",
        "\n",
        "Input Description:\n",
        "A single line containing an integer.\n",
        "\n",
        "Output Description:\n",
        "Print the sum of the digits of the integer.\n",
        "\n",
        "Sample Input :\n",
        "124\n",
        "Sample Output :\n",
        "7\n",
        "```\n",
        "\n"
      ],
      "metadata": {
        "id": "5-yA02o9XhFS"
      }
    },
    {
      "cell_type": "code",
      "source": [
        "num = input(\"Enter a number: \")\n",
        "s = 1\n",
        "for i in range(0,len(num)+1):\n",
        "  s = int(s) + i\n",
        "print(s)"
      ],
      "metadata": {
        "colab": {
          "base_uri": "https://localhost:8080/"
        },
        "id": "39Shb9JEXizj",
        "outputId": "0d5462a8-51f9-4639-8ab4-c0ae2adf55e0"
      },
      "execution_count": null,
      "outputs": [
        {
          "output_type": "stream",
          "name": "stdout",
          "text": [
            "Enter a number: 124\n",
            "7\n"
          ]
        }
      ]
    },
    {
      "cell_type": "markdown",
      "source": [
        "\n",
        "\n",
        "```\n",
        "Write a code to get the input in the given format and print the output in the given format\n",
        "\n",
        "Input Description:\n",
        "To take an integer value\n",
        "\n",
        "Output Description:\n",
        "Print the integer value\n",
        "\n",
        "Sample Input :\n",
        "2\n",
        "Sample Output :\n",
        "2\n",
        "```\n",
        "\n"
      ],
      "metadata": {
        "id": "RqXZjt_ESvdk"
      }
    },
    {
      "cell_type": "code",
      "source": [],
      "metadata": {
        "id": "gqBfN8wSS0iB"
      },
      "execution_count": null,
      "outputs": []
    },
    {
      "cell_type": "markdown",
      "source": [
        "Write a code to get the input in the given format and print the output in the given format\n",
        "\n",
        "Input Description:\n",
        "A single line contains integers separated by space\n",
        "\n",
        "Output Description:\n",
        "Print the integer list of integers separated by space\n",
        "\n",
        "Sample Input :\n",
        "2 3 4 5 6 7 8\n",
        "Sample Output :\n",
        "2 3 4 5 6 7 8"
      ],
      "metadata": {
        "id": "8mFBYUDRS1F_"
      }
    },
    {
      "cell_type": "code",
      "source": [],
      "metadata": {
        "id": "WzkdmneBS-Sh"
      },
      "execution_count": null,
      "outputs": []
    },
    {
      "cell_type": "markdown",
      "source": [],
      "metadata": {
        "id": "C0urSX22S-7x"
      }
    },
    {
      "cell_type": "markdown",
      "source": [
        "Write a code to get the input in the given format and print the output in the given format.\n",
        "\n",
        "Input Description:\n",
        "First-line indicates two integers which are the size of array and 'K' value. Second-line indicates an integer contains elements of an array.\n",
        "\n",
        "Output Description:\n",
        "Print the taken input in the same format.\n",
        "\n",
        "Sample Input :\n",
        "5 3\n",
        "1 2 3 4 5\n",
        "Sample Output :\n",
        "5 3\n",
        "1 2 3 4 5"
      ],
      "metadata": {
        "id": "sex786sCTCGQ"
      }
    },
    {
      "cell_type": "code",
      "source": [],
      "metadata": {
        "id": "wGS0IdkkTDjW"
      },
      "execution_count": null,
      "outputs": []
    },
    {
      "cell_type": "markdown",
      "source": [
        "\n",
        "\n",
        "```\n",
        "Write a code to get the input in the given format and print the output in the given format\n",
        "\n",
        "Input Description:\n",
        "First-line indicates two integers separated by space. Second-line indicates two integers separated by space. Third-line indicates two integers separated by space.\n",
        "\n",
        "Output Description:\n",
        "Print the input in the same format.\n",
        "\n",
        "Sample Input :\n",
        "2 4\n",
        "2 4\n",
        "2 4\n",
        "Sample Output :\n",
        "2 4\n",
        "2 4\n",
        "2 4\n",
        "```\n",
        "\n"
      ],
      "metadata": {
        "id": "2oXI8O3kTF2H"
      }
    },
    {
      "cell_type": "code",
      "source": [],
      "metadata": {
        "id": "6RIEGN3zTLve"
      },
      "execution_count": null,
      "outputs": []
    },
    {
      "cell_type": "markdown",
      "source": [],
      "metadata": {
        "id": "J-463fIOTMO4"
      }
    },
    {
      "cell_type": "markdown",
      "source": [
        "\n",
        "\n",
        "```\n",
        "Write a code to get the input in the given format and print the output in the given format\n",
        "\n",
        "Input Description:\n",
        "Three integers are given in line by line.\n",
        "\n",
        "Output Description:\n",
        "Print the integers in a single line separate by space.\n",
        "\n",
        "Sample Input :\n",
        "2\n",
        "4\n",
        "5\n",
        "Sample Output :\n",
        "2 4 5\n",
        "```\n",
        "\n"
      ],
      "metadata": {
        "id": "9bhiUGDVTPWw"
      }
    },
    {
      "cell_type": "code",
      "source": [],
      "metadata": {
        "id": "9d2Nh1hqTQ7f"
      },
      "execution_count": null,
      "outputs": []
    },
    {
      "cell_type": "markdown",
      "source": [
        "\n",
        "\n",
        "```\n",
        "\n",
        "Share\n",
        "Write a code to get the input in the given format and print the output in the given format\n",
        "\n",
        "Input Description:\n",
        "First-line indicates two integers separated by space. Second-line indicates three integers separated by space. Third-line indicates three integers separated by space\n",
        "\n",
        "Output Description:\n",
        "Print the input in the same format.\n",
        "\n",
        "Sample Input :\n",
        "2 5\n",
        "2 5 6\n",
        "2 4 5\n",
        "Sample Output :\n",
        "2 5\n",
        "2 5 6\n",
        "2 4 5\n",
        "```\n",
        "\n"
      ],
      "metadata": {
        "id": "QrIqam8uTRYh"
      }
    },
    {
      "cell_type": "code",
      "source": [],
      "metadata": {
        "id": "EtaDD7jETW8B"
      },
      "execution_count": null,
      "outputs": []
    },
    {
      "cell_type": "markdown",
      "source": [
        "\n",
        "\n",
        "```\n",
        "Write a code to get the input in the given format and print the output in the given format\n",
        "\n",
        "Input Description:\n",
        "A single line contains a string.\n",
        "\n",
        "Output Description:\n",
        "Print the characters in a string separated by space.\n",
        "\n",
        "Sample Input :\n",
        "guvi\n",
        "Sample Output :\n",
        "g u v i\n",
        "```\n",
        "\n"
      ],
      "metadata": {
        "id": "QxhqgTI9TWF2"
      }
    },
    {
      "cell_type": "code",
      "source": [],
      "metadata": {
        "id": "uTUy0WWCTboZ"
      },
      "execution_count": null,
      "outputs": []
    },
    {
      "cell_type": "markdown",
      "source": [
        "\n",
        "\n",
        "```\n",
        "Write a code to get the input in the given format and print the output in the given format.\n",
        "\n",
        "Input Description:\n",
        "A single line contains three float values separated by space.\n",
        "\n",
        "Output Description:\n",
        "Print the float value separated by line.\n",
        "\n",
        "Sample Input :\n",
        "2.3 4.5 7.8\n",
        "Sample Output :\n",
        "2.3\n",
        "4.5\n",
        "7.8\n",
        "```\n",
        "\n"
      ],
      "metadata": {
        "id": "KbaErATfTcBu"
      }
    },
    {
      "cell_type": "code",
      "source": [],
      "metadata": {
        "id": "f48O_hdYTgrS"
      },
      "execution_count": null,
      "outputs": []
    },
    {
      "cell_type": "markdown",
      "source": [
        "\n",
        "\n",
        "```\n",
        "Write a code to get the input in the given format and print the output in the given format.\n",
        "\n",
        "Input Description:\n",
        "A single line contains a string.\n",
        "\n",
        "Output Description:\n",
        "Print the characters in a string separated by line.\n",
        "\n",
        "Sample Input :\n",
        "guvigeek\n",
        "Sample Output :\n",
        "g\n",
        "u\n",
        "v\n",
        "i\n",
        "g\n",
        "e\n",
        "e\n",
        "k\n",
        "```\n",
        "\n"
      ],
      "metadata": {
        "id": "O-YxwZxlTf7R"
      }
    },
    {
      "cell_type": "code",
      "source": [],
      "metadata": {
        "id": "QtyekjdlTmfK"
      },
      "execution_count": null,
      "outputs": []
    },
    {
      "cell_type": "markdown",
      "source": [
        "\n",
        "\n",
        "```\n",
        "Write a code to get the input in the given format and print the output in the given format.\n",
        "\n",
        "Input Description:\n",
        "A single line contains a string.\n",
        "\n",
        "Output Description:\n",
        "Print the characters in a string separated by comma.\n",
        "\n",
        "Sample Input :\n",
        "guvi\n",
        "Sample Output :\n",
        "g,u,v,i\n",
        "```\n",
        "\n"
      ],
      "metadata": {
        "id": "CmtFWCUQTnM1"
      }
    },
    {
      "cell_type": "code",
      "source": [],
      "metadata": {
        "id": "cJqf98lYTrdI"
      },
      "execution_count": null,
      "outputs": []
    },
    {
      "cell_type": "markdown",
      "source": [],
      "metadata": {
        "id": "5rVcq3APTr6A"
      }
    }
  ]
}